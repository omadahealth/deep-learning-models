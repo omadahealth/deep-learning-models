{
 "cells": [
  {
   "cell_type": "code",
   "execution_count": null,
   "metadata": {
    "collapsed": false,
    "deletable": true,
    "editable": true
   },
   "outputs": [],
   "source": [
    "import os\n",
    "import numpy as np\n",
    "\n",
    "from keras.preprocessing import image\n",
    "from keras.applications.imagenet_utils import decode_predictions\n",
    "\n",
    "from resnet50 import ResNet50\n",
    "from resnet50 import preprocess_input as res_preprocess_input\n",
    "\n",
    "from inception_v3 import InceptionV3\n",
    "from inception_v3 import preprocess_input as incep_preprocess_input"
   ]
  },
  {
   "cell_type": "code",
   "execution_count": null,
   "metadata": {
    "collapsed": false
   },
   "outputs": [],
   "source": [
    "def download_meal_images(num_images=100, destination='./images/'):\n",
    "\n",
    "    import boto3\n",
    "    \"\"\"\n",
    "    REQUIRES CORRECT S3 CREDENTIALS IN YOU ~/.aws/credentials file\n",
    "    \"\"\"\n",
    "    bucket_name = 'filepicker-images-prevent'\n",
    "    meal_words = ['lunch', 'dinner', 'breakfast', 'snack'] # images have one of these words in their filename\n",
    "\n",
    "    # connect\n",
    "    s3 = boto3.resource('s3')\n",
    "    bucket = s3.Bucket(bucket_name)\n",
    "\n",
    "    downloaded = []\n",
    "    for key in bucket.objects.all():\n",
    "\n",
    "        if any(meal_word in key.key for meal_word in meal_words):\n",
    "            dest = os.path.join(destination, key.key)\n",
    "            s3.meta.client.download_file(bucket_name, key.key, dest)\n",
    "            downloaded.append(dest)\n",
    "\n",
    "        if len(downloaded) > num_images:\n",
    "            return downloaded"
   ]
  },
  {
   "cell_type": "code",
   "execution_count": null,
   "metadata": {
    "collapsed": false
   },
   "outputs": [],
   "source": [
    "new_images = download_meal_images(3)"
   ]
  },
  {
   "cell_type": "code",
   "execution_count": null,
   "metadata": {
    "collapsed": false,
    "deletable": true,
    "editable": true
   },
   "outputs": [],
   "source": [
    "model_lib = {\n",
    "    'inception': {\n",
    "        'model': InceptionV3(include_top=True, weights='imagenet'),\n",
    "        'preprocessor': incep_preprocess_input,\n",
    "        'target_size': (299, 299)\n",
    "    },\n",
    "    'resnet': {\n",
    "        'model': ResNet50(include_top=True, weights='imagenet'),\n",
    "        'preprocessor': res_preprocess_input,\n",
    "        'target_size': (224, 224)\n",
    "    }\n",
    "}"
   ]
  },
  {
   "cell_type": "code",
   "execution_count": null,
   "metadata": {
    "collapsed": false,
    "scrolled": true
   },
   "outputs": [],
   "source": [
    "# images = ['./images/' + f for f in os.listdir('./images') if f != '.DS_Store']"
   ]
  },
  {
   "cell_type": "code",
   "execution_count": null,
   "metadata": {
    "collapsed": true,
    "deletable": true,
    "editable": true
   },
   "outputs": [],
   "source": [
    "def get_predictions(image_path, models):\n",
    "    predictions = {}\n",
    "    for model_name in models:\n",
    "        # load model\n",
    "        model = model_lib[model_name]['model']\n",
    "        \n",
    "        # process image\n",
    "        img = image.load_img(image_path, target_size=model_lib[model_name]['target_size'])\n",
    "        x = image.img_to_array(img)\n",
    "        x = np.expand_dims(x, axis=0)\n",
    "        preprocessor = model_lib[model_name]['preprocessor']\n",
    "        x = preprocessor(x)\n",
    "        \n",
    "        # predict\n",
    "        preds = model.predict(x)\n",
    "        decoded = decode_predictions(preds)\n",
    "              \n",
    "        # store predictions for future fun and profit\n",
    "        predictions[model_name] = decoded[0]\n",
    "    return img, predictions"
   ]
  },
  {
   "cell_type": "code",
   "execution_count": null,
   "metadata": {
    "collapsed": true
   },
   "outputs": [],
   "source": [
    "im_number = 1"
   ]
  },
  {
   "cell_type": "code",
   "execution_count": null,
   "metadata": {
    "collapsed": false
   },
   "outputs": [],
   "source": [
    "img, preds = get_predictions(new_images[im_number], models=model_lib.keys())"
   ]
  },
  {
   "cell_type": "code",
   "execution_count": null,
   "metadata": {
    "collapsed": false
   },
   "outputs": [],
   "source": [
    "img"
   ]
  },
  {
   "cell_type": "code",
   "execution_count": null,
   "metadata": {
    "collapsed": false
   },
   "outputs": [],
   "source": [
    "preds"
   ]
  },
  {
   "cell_type": "code",
   "execution_count": null,
   "metadata": {
    "collapsed": false
   },
   "outputs": [],
   "source": [
    "from IPython.display import Image\n",
    "Image(filename=new_images[im_number]) "
   ]
  }
 ],
 "metadata": {
  "kernelspec": {
   "display_name": "Python 3",
   "language": "python",
   "name": "python3"
  },
  "language_info": {
   "codemirror_mode": {
    "name": "ipython",
    "version": 3
   },
   "file_extension": ".py",
   "mimetype": "text/x-python",
   "name": "python",
   "nbconvert_exporter": "python",
   "pygments_lexer": "ipython3",
   "version": "3.5.2"
  },
  "nav_menu": {},
  "toc": {
   "navigate_menu": true,
   "number_sections": true,
   "sideBar": true,
   "threshold": 6,
   "toc_cell": false,
   "toc_section_display": "block",
   "toc_window_display": false
  }
 },
 "nbformat": 4,
 "nbformat_minor": 2
}
